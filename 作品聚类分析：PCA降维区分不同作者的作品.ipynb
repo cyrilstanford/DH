{
 "cells": [
  {
   "cell_type": "code",
   "execution_count": 1,
   "id": "4d5ccd89",
   "metadata": {},
   "outputs": [
    {
     "ename": "UnicodeDecodeError",
     "evalue": "'gbk' codec can't decode byte 0xbf in position 2: illegal multibyte sequence",
     "output_type": "error",
     "traceback": [
      "\u001b[1;31m---------------------------------------------------------------------------\u001b[0m",
      "\u001b[1;31mUnicodeDecodeError\u001b[0m                        Traceback (most recent call last)",
      "Cell \u001b[1;32mIn[1], line 35\u001b[0m\n\u001b[0;32m     32\u001b[0m     plt\u001b[38;5;241m.\u001b[39mylabel(\u001b[38;5;124m'\u001b[39m\u001b[38;5;124mPC2\u001b[39m\u001b[38;5;124m'\u001b[39m)\n\u001b[0;32m     33\u001b[0m     plt\u001b[38;5;241m.\u001b[39mshow()\n\u001b[1;32m---> 35\u001b[0m X, filenames \u001b[38;5;241m=\u001b[39m \u001b[43mload_data\u001b[49m\u001b[43m(\u001b[49m\u001b[38;5;124;43m'\u001b[39;49m\u001b[38;5;124;43m./editions\u001b[39;49m\u001b[38;5;124;43m'\u001b[39;49m\u001b[43m)\u001b[49m\n\u001b[0;32m     36\u001b[0m X_pca \u001b[38;5;241m=\u001b[39m reduce_dimensions(X)\n\u001b[0;32m     37\u001b[0m plot_data(X_pca, filenames)\n",
      "Cell \u001b[1;32mIn[1], line 15\u001b[0m, in \u001b[0;36mload_data\u001b[1;34m(folder_path)\u001b[0m\n\u001b[0;32m     13\u001b[0m         filenames\u001b[38;5;241m.\u001b[39mappend(filename)\n\u001b[0;32m     14\u001b[0m         \u001b[38;5;28;01mwith\u001b[39;00m \u001b[38;5;28mopen\u001b[39m(os\u001b[38;5;241m.\u001b[39mpath\u001b[38;5;241m.\u001b[39mjoin(folder_path, filename), \u001b[38;5;124m'\u001b[39m\u001b[38;5;124mr\u001b[39m\u001b[38;5;124m'\u001b[39m) \u001b[38;5;28;01mas\u001b[39;00m f:\n\u001b[1;32m---> 15\u001b[0m             text \u001b[38;5;241m=\u001b[39m \u001b[43mf\u001b[49m\u001b[38;5;241;43m.\u001b[39;49m\u001b[43mread\u001b[49m\u001b[43m(\u001b[49m\u001b[43m)\u001b[49m\n\u001b[0;32m     16\u001b[0m             data\u001b[38;5;241m.\u001b[39mappend(text)\n\u001b[0;32m     17\u001b[0m vectorizer \u001b[38;5;241m=\u001b[39m TfidfVectorizer()\n",
      "\u001b[1;31mUnicodeDecodeError\u001b[0m: 'gbk' codec can't decode byte 0xbf in position 2: illegal multibyte sequence"
     ]
    }
   ],
   "source": [
    "import os\n",
    "import numpy as np\n",
    "import pandas as pd\n",
    "from sklearn.feature_extraction.text import TfidfVectorizer\n",
    "from sklearn.decomposition import PCA\n",
    "import matplotlib.pyplot as plt\n",
    "\n",
    "def load_data(folder_path):\n",
    "    data = []\n",
    "    filenames = []\n",
    "    for filename in os.listdir(folder_path):\n",
    "        if filename.endswith('.txt'):\n",
    "            filenames.append(filename)\n",
    "            with open(os.path.join(folder_path, filename), 'r') as f:\n",
    "                text = f.read()\n",
    "                data.append(text)\n",
    "    vectorizer = TfidfVectorizer()\n",
    "    X = vectorizer.fit_transform(data).toarray()\n",
    "    return X, filenames\n",
    "\n",
    "def reduce_dimensions(X, n_components=2):\n",
    "    pca = PCA(n_components=n_components)\n",
    "    X_pca = pca.fit_transform(X)\n",
    "    return X_pca\n",
    "\n",
    "def plot_data(X, filenames):\n",
    "    plt.figure(figsize=(10, 8))\n",
    "    plt.scatter(X[:, 0], X[:, 1])\n",
    "    for i, filename in enumerate(filenames):\n",
    "        plt.annotate(filename[:-4], (X[i, 0], X[i, 1]))\n",
    "    plt.xlabel('PC1')\n",
    "    plt.ylabel('PC2')\n",
    "    plt.show()\n",
    "\n",
    "X, filenames = load_data('./editions')\n",
    "X_pca = reduce_dimensions(X)\n",
    "plot_data(X_pca, filenames)"
   ]
  },
  {
   "cell_type": "code",
   "execution_count": 18,
   "id": "89d09751",
   "metadata": {},
   "outputs": [
    {
     "ename": "IndexError",
     "evalue": "list index out of range",
     "output_type": "error",
     "traceback": [
      "\u001b[1;31m---------------------------------------------------------------------------\u001b[0m",
      "\u001b[1;31mIndexError\u001b[0m                                Traceback (most recent call last)",
      "Cell \u001b[1;32mIn[18], line 90\u001b[0m\n\u001b[0;32m     87\u001b[0m freqs, dft \u001b[38;5;241m=\u001b[39m calculate_dft(mode_seq)\n\u001b[0;32m     89\u001b[0m \u001b[38;5;66;03m# Plot the Stripe diagram.\u001b[39;00m\n\u001b[1;32m---> 90\u001b[0m \u001b[43mplot_stripe_diagram\u001b[49m\u001b[43m(\u001b[49m\u001b[43mmodes\u001b[49m\u001b[43m,\u001b[49m\u001b[43m \u001b[49m\u001b[43mfreqs\u001b[49m\u001b[43m,\u001b[49m\u001b[43m \u001b[49m\u001b[43mdft\u001b[49m\u001b[43m,\u001b[49m\u001b[43m \u001b[49m\u001b[43mtitle\u001b[49m\u001b[38;5;241;43m=\u001b[39;49m\u001b[43mnovel_file\u001b[49m\u001b[43m)\u001b[49m\n",
      "Cell \u001b[1;32mIn[18], line 50\u001b[0m, in \u001b[0;36mplot_stripe_diagram\u001b[1;34m(modes, freqs, dft, title)\u001b[0m\n\u001b[0;32m     48\u001b[0m end \u001b[38;5;241m=\u001b[39m mode[\u001b[38;5;124m'\u001b[39m\u001b[38;5;124mend\u001b[39m\u001b[38;5;124m'\u001b[39m] \u001b[38;5;28;01mif\u001b[39;00m \u001b[38;5;124m'\u001b[39m\u001b[38;5;124mend\u001b[39m\u001b[38;5;124m'\u001b[39m \u001b[38;5;129;01min\u001b[39;00m mode \u001b[38;5;28;01melse\u001b[39;00m \u001b[38;5;28mlen\u001b[39m(text)\n\u001b[0;32m     49\u001b[0m idx_range \u001b[38;5;241m=\u001b[39m \u001b[38;5;28mrange\u001b[39m(start, end)\n\u001b[1;32m---> 50\u001b[0m mode_seq \u001b[38;5;241m=\u001b[39m [\u001b[38;5;28mint\u001b[39m(modes[i][\u001b[38;5;124m'\u001b[39m\u001b[38;5;124mmode\u001b[39m\u001b[38;5;124m'\u001b[39m] \u001b[38;5;241m==\u001b[39m \u001b[38;5;124m'\u001b[39m\u001b[38;5;124mshowing\u001b[39m\u001b[38;5;124m'\u001b[39m) \u001b[38;5;28;01mfor\u001b[39;00m i \u001b[38;5;129;01min\u001b[39;00m idx_range]\n\u001b[0;32m     51\u001b[0m freq_range \u001b[38;5;241m=\u001b[39m freqs[start:end]\n\u001b[0;32m     52\u001b[0m dft_range \u001b[38;5;241m=\u001b[39m dft[start:end]\n",
      "Cell \u001b[1;32mIn[18], line 50\u001b[0m, in \u001b[0;36m<listcomp>\u001b[1;34m(.0)\u001b[0m\n\u001b[0;32m     48\u001b[0m end \u001b[38;5;241m=\u001b[39m mode[\u001b[38;5;124m'\u001b[39m\u001b[38;5;124mend\u001b[39m\u001b[38;5;124m'\u001b[39m] \u001b[38;5;28;01mif\u001b[39;00m \u001b[38;5;124m'\u001b[39m\u001b[38;5;124mend\u001b[39m\u001b[38;5;124m'\u001b[39m \u001b[38;5;129;01min\u001b[39;00m mode \u001b[38;5;28;01melse\u001b[39;00m \u001b[38;5;28mlen\u001b[39m(text)\n\u001b[0;32m     49\u001b[0m idx_range \u001b[38;5;241m=\u001b[39m \u001b[38;5;28mrange\u001b[39m(start, end)\n\u001b[1;32m---> 50\u001b[0m mode_seq \u001b[38;5;241m=\u001b[39m [\u001b[38;5;28mint\u001b[39m(\u001b[43mmodes\u001b[49m\u001b[43m[\u001b[49m\u001b[43mi\u001b[49m\u001b[43m]\u001b[49m[\u001b[38;5;124m'\u001b[39m\u001b[38;5;124mmode\u001b[39m\u001b[38;5;124m'\u001b[39m] \u001b[38;5;241m==\u001b[39m \u001b[38;5;124m'\u001b[39m\u001b[38;5;124mshowing\u001b[39m\u001b[38;5;124m'\u001b[39m) \u001b[38;5;28;01mfor\u001b[39;00m i \u001b[38;5;129;01min\u001b[39;00m idx_range]\n\u001b[0;32m     51\u001b[0m freq_range \u001b[38;5;241m=\u001b[39m freqs[start:end]\n\u001b[0;32m     52\u001b[0m dft_range \u001b[38;5;241m=\u001b[39m dft[start:end]\n",
      "\u001b[1;31mIndexError\u001b[0m: list index out of range"
     ]
    },
    {
     "data": {
      "image/png": "[encoded data removed]",
      "text/plain": [
       "<Figure size 720x360 with 1 Axes>"
      ]
     },
     "metadata": {
      "needs_background": "light"
     },
     "output_type": "display_data"
    }
   ],
   "source": [
    "import os\n",
    "import re\n",
    "import numpy as np\n",
    "import matplotlib.pyplot as plt\n",
    "\n",
    "def extract_mode_changes(text):\n",
    "    \"\"\"Extracts telling and showing mode changes from the input text.\"\"\"\n",
    "    modes = []\n",
    "    \n",
    "    # Split the text into paragraphs.\n",
    "    paragraphs = re.split(r'\\n{2,}', text)\n",
    "    \n",
    "    # Iterate over each paragraph.\n",
    "    for paragraph in paragraphs:\n",
    "        # Decide if the paragraph is in telling or showing mode.\n",
    "        mode = 'telling' if re.search(r'^\\s*(?:[A-Z][\\w\\s.,;:\"\\'-]+[.,;:\"\\'-]+)+$', paragraph) else 'showing'\n",
    "        \n",
    "        # If the mode has changed, add the current index to the list of changes.\n",
    "        if modes and modes[-1]['mode'] != mode:\n",
    "            modes[-1]['end'] = len(paragraph)\n",
    "            modes.append({'mode': mode, 'start': len(paragraph)})\n",
    "        elif not modes or modes[-1]['mode'] != mode:\n",
    "            modes.append({'mode': mode, 'start': len(paragraph)})\n",
    "    \n",
    "    # If the final paragraph is in showing mode, add its end index.\n",
    "    if modes and modes[-1]['mode'] == 'showing':\n",
    "        modes[-1]['end'] = len(paragraphs[-1])\n",
    "    \n",
    "    return modes\n",
    "\n",
    "def calculate_dft(series):\n",
    "    \"\"\"Calculates the Discrete Fourier Transform (DFT) of the input time series.\"\"\"\n",
    "    n = len(series)\n",
    "    freqs = np.fft.fftfreq(n)\n",
    "    dft = np.fft.fft(series)\n",
    "    \n",
    "    return freqs, dft\n",
    "\n",
    "def plot_stripe_diagram(modes, freqs, dft, title):\n",
    "    \"\"\"Plots a Stripe diagram of the input narrative modes.\"\"\"\n",
    "    # Set up the figure.\n",
    "    fig, ax = plt.subplots(figsize=(10, 5))\n",
    "    \n",
    "    # Iterate over each mode change.\n",
    "    for i, mode in enumerate(modes):\n",
    "        # Get the dominant frequency in the DFT for this mode change.\n",
    "        start = mode['start']\n",
    "        end = mode['end'] if 'end' in mode else len(text)\n",
    "        idx_range = range(start, end)\n",
    "        mode_seq = [int(modes[i]['mode'] == 'showing') for i in idx_range]\n",
    "        freq_range = freqs[start:end]\n",
    "        dft_range = dft[start:end]\n",
    "        dom_freq = freq_range[np.argmax(np.abs(dft_range))]\n",
    "        \n",
    "        # Set the color of the stripe based on the dominant frequency.\n",
    "        if dom_freq >= 0:\n",
    "            ax.axvspan(start, end, facecolor='C0', alpha=0.2)\n",
    "        else:\n",
    "            ax.axvspan(start, end, facecolor='C1', alpha=0.2)\n",
    "    \n",
    "    # Set the title of the plot.\n",
    "    ax.set_title(title)\n",
    "    \n",
    "    # Set the x-axis limits to the length of the text.\n",
    "    ax.set_xlim(0, len(text))\n",
    "    \n",
    "    # Hide the y-axis.\n",
    "    ax.set_yticks([])\n",
    "    \n",
    "    # Show the plot.\n",
    "    plt.show()\n",
    "\n",
    "# Collect the input text files.\n",
    "novel_files = [f for f in os.listdir('./novels') if f.endswith('.txt')]\n",
    "\n",
    "# Iterate over each input text file.\n",
    "for novel_file in novel_files:\n",
    "    # Load the text.\n",
    "    with open(os.path.join('./novels', novel_file)) as f:\n",
    "        text = f.read()\n",
    "    \n",
    "    # Extract the mode changes.\n",
    "    modes = extract_mode_changes(text)\n",
    "    \n",
    "    # Calculate the DFT.\n",
    "    mode_seq = [int(m['mode'] == 'showing') for m in modes]\n",
    "    freqs, dft = calculate_dft(mode_seq)\n",
    "    \n",
    "    # Plot the Stripe diagram.\n",
    "    plot_stripe_diagram(modes, freqs, dft, title=novel_file)"
   ]
  },
  {
   "cell_type": "code",
   "execution_count": null,
   "id": "294a8604",
   "metadata": {},
   "outputs": [],
   "source": []
  }
 ],
 "metadata": {
  "kernelspec": {
   "display_name": "Python 3 (ipykernel)",
   "language": "python",
   "name": "python3"
  },
  "language_info": {
   "codemirror_mode": {
    "name": "ipython",
    "version": 3
   },
   "file_extension": ".py",
   "mimetype": "text/x-python",
   "name": "python",
   "nbconvert_exporter": "python",
   "pygments_lexer": "ipython3",
   "version": "3.10.9"
  }
 },
 "nbformat": 4,
 "nbformat_minor": 5
}
