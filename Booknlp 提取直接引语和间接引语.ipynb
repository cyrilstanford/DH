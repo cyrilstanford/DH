{
 "cells": [
  {
   "cell_type": "code",
   "execution_count": 1,
   "id": "10673db5",
   "metadata": {},
   "outputs": [
    {
     "name": "stdout",
     "output_type": "stream",
     "text": [
      "Looking in indexes: https://pypi.tuna.tsinghua.edu.cn/simple/\n",
      "Requirement already satisfied: booknlp in c:\\users\\huihf\\anaconda3new\\lib\\site-packages (1.0.7.1)\n",
      "Requirement already satisfied: transformers<=4.30.0,>=4.11.3 in c:\\users\\huihf\\anaconda3new\\lib\\site-packages (from booknlp) (4.30.0)\n",
      "Requirement already satisfied: torch>=1.7.1 in c:\\users\\huihf\\anaconda3new\\lib\\site-packages (from booknlp) (2.1.2)\n",
      "Requirement already satisfied: spacy>=3 in c:\\users\\huihf\\anaconda3new\\lib\\site-packages (from booknlp) (3.5.4)\n",
      "Requirement already satisfied: requests<3.0.0,>=2.13.0 in c:\\users\\huihf\\anaconda3new\\lib\\site-packages (from spacy>=3->booknlp) (2.28.1)\n",
      "Requirement already satisfied: spacy-loggers<2.0.0,>=1.0.0 in c:\\users\\huihf\\anaconda3new\\lib\\site-packages (from spacy>=3->booknlp) (1.0.4)\n",
      "Requirement already satisfied: typer<0.10.0,>=0.3.0 in c:\\users\\huihf\\anaconda3new\\lib\\site-packages (from spacy>=3->booknlp) (0.9.0)\n",
      "Requirement already satisfied: numpy>=1.15.0 in c:\\users\\huihf\\anaconda3new\\lib\\site-packages (from spacy>=3->booknlp) (1.23.5)\n",
      "Requirement already satisfied: pydantic!=1.8,!=1.8.1,<1.11.0,>=1.7.4 in c:\\users\\huihf\\anaconda3new\\lib\\site-packages (from spacy>=3->booknlp) (1.10.11)\n",
      "Requirement already satisfied: tqdm<5.0.0,>=4.38.0 in c:\\users\\huihf\\anaconda3new\\lib\\site-packages (from spacy>=3->booknlp) (4.64.1)\n",
      "Requirement already satisfied: wasabi<1.2.0,>=0.9.1 in c:\\users\\huihf\\anaconda3new\\lib\\site-packages (from spacy>=3->booknlp) (1.1.2)\n",
      "Requirement already satisfied: catalogue<2.1.0,>=2.0.6 in c:\\users\\huihf\\anaconda3new\\lib\\site-packages (from spacy>=3->booknlp) (2.0.8)\n",
      "Requirement already satisfied: spacy-legacy<3.1.0,>=3.0.11 in c:\\users\\huihf\\anaconda3new\\lib\\site-packages (from spacy>=3->booknlp) (3.0.12)\n",
      "Requirement already satisfied: murmurhash<1.1.0,>=0.28.0 in c:\\users\\huihf\\anaconda3new\\lib\\site-packages (from spacy>=3->booknlp) (1.0.9)\n",
      "Requirement already satisfied: jinja2 in c:\\users\\huihf\\anaconda3new\\lib\\site-packages (from spacy>=3->booknlp) (3.1.2)\n",
      "Requirement already satisfied: setuptools in c:\\users\\huihf\\anaconda3new\\lib\\site-packages (from spacy>=3->booknlp) (65.6.3)\n",
      "Requirement already satisfied: langcodes<4.0.0,>=3.2.0 in c:\\users\\huihf\\anaconda3new\\lib\\site-packages (from spacy>=3->booknlp) (3.3.0)\n",
      "Requirement already satisfied: packaging>=20.0 in c:\\users\\huihf\\anaconda3new\\lib\\site-packages (from spacy>=3->booknlp) (22.0)\n",
      "Requirement already satisfied: srsly<3.0.0,>=2.4.3 in c:\\users\\huihf\\anaconda3new\\lib\\site-packages (from spacy>=3->booknlp) (2.4.6)\n",
      "Requirement already satisfied: thinc<8.2.0,>=8.1.8 in c:\\users\\huihf\\anaconda3new\\lib\\site-packages (from spacy>=3->booknlp) (8.1.10)\n",
      "Requirement already satisfied: pathy>=0.10.0 in c:\\users\\huihf\\anaconda3new\\lib\\site-packages (from spacy>=3->booknlp) (0.10.2)\n",
      "Requirement already satisfied: cymem<2.1.0,>=2.0.2 in c:\\users\\huihf\\anaconda3new\\lib\\site-packages (from spacy>=3->booknlp) (2.0.7)\n",
      "Requirement already satisfied: preshed<3.1.0,>=3.0.2 in c:\\users\\huihf\\anaconda3new\\lib\\site-packages (from spacy>=3->booknlp) (3.0.8)\n",
      "Requirement already satisfied: smart-open<7.0.0,>=5.2.1 in c:\\users\\huihf\\anaconda3new\\lib\\site-packages (from spacy>=3->booknlp) (5.2.1)\n",
      "Requirement already satisfied: sympy in c:\\users\\huihf\\anaconda3new\\lib\\site-packages (from torch>=1.7.1->booknlp) (1.11.1)\n",
      "Requirement already satisfied: filelock in c:\\users\\huihf\\anaconda3new\\lib\\site-packages (from torch>=1.7.1->booknlp) (3.9.0)\n",
      "Requirement already satisfied: networkx in c:\\users\\huihf\\anaconda3new\\lib\\site-packages (from torch>=1.7.1->booknlp) (2.8.4)\n",
      "Requirement already satisfied: typing-extensions in c:\\users\\huihf\\anaconda3new\\lib\\site-packages (from torch>=1.7.1->booknlp) (4.7.1)\n",
      "Requirement already satisfied: fsspec in c:\\users\\huihf\\anaconda3new\\lib\\site-packages (from torch>=1.7.1->booknlp) (2023.10.0)\n",
      "Requirement already satisfied: pyyaml>=5.1 in c:\\users\\huihf\\anaconda3new\\lib\\site-packages (from transformers<=4.30.0,>=4.11.3->booknlp) (6.0)\n",
      "Requirement already satisfied: safetensors>=0.3.1 in c:\\users\\huihf\\anaconda3new\\lib\\site-packages (from transformers<=4.30.0,>=4.11.3->booknlp) (0.4.1)\n",
      "Requirement already satisfied: tokenizers!=0.11.3,<0.14,>=0.11.1 in c:\\users\\huihf\\anaconda3new\\lib\\site-packages (from transformers<=4.30.0,>=4.11.3->booknlp) (0.13.3)\n",
      "Requirement already satisfied: regex!=2019.12.17 in c:\\users\\huihf\\anaconda3new\\lib\\site-packages (from transformers<=4.30.0,>=4.11.3->booknlp) (2022.7.9)\n",
      "Requirement already satisfied: huggingface-hub<1.0,>=0.14.1 in c:\\users\\huihf\\anaconda3new\\lib\\site-packages (from transformers<=4.30.0,>=4.11.3->booknlp) (0.19.4)\n",
      "Requirement already satisfied: idna<4,>=2.5 in c:\\users\\huihf\\anaconda3new\\lib\\site-packages (from requests<3.0.0,>=2.13.0->spacy>=3->booknlp) (3.4)\n",
      "Requirement already satisfied: urllib3<1.27,>=1.21.1 in c:\\users\\huihf\\anaconda3new\\lib\\site-packages (from requests<3.0.0,>=2.13.0->spacy>=3->booknlp) (1.26.14)\n",
      "Requirement already satisfied: certifi>=2017.4.17 in c:\\users\\huihf\\anaconda3new\\lib\\site-packages (from requests<3.0.0,>=2.13.0->spacy>=3->booknlp) (2022.12.7)\n",
      "Requirement already satisfied: charset-normalizer<3,>=2 in c:\\users\\huihf\\anaconda3new\\lib\\site-packages (from requests<3.0.0,>=2.13.0->spacy>=3->booknlp) (2.0.4)\n",
      "Requirement already satisfied: blis<0.8.0,>=0.7.8 in c:\\users\\huihf\\anaconda3new\\lib\\site-packages (from thinc<8.2.0,>=8.1.8->spacy>=3->booknlp) (0.7.9)\n",
      "Requirement already satisfied: confection<1.0.0,>=0.0.1 in c:\\users\\huihf\\anaconda3new\\lib\\site-packages (from thinc<8.2.0,>=8.1.8->spacy>=3->booknlp) (0.1.0)\n",
      "Requirement already satisfied: colorama in c:\\users\\huihf\\anaconda3new\\lib\\site-packages (from tqdm<5.0.0,>=4.38.0->spacy>=3->booknlp) (0.4.6)\n",
      "Requirement already satisfied: click<9.0.0,>=7.1.1 in c:\\users\\huihf\\anaconda3new\\lib\\site-packages (from typer<0.10.0,>=0.3.0->spacy>=3->booknlp) (8.0.4)\n",
      "Requirement already satisfied: MarkupSafe>=2.0 in c:\\users\\huihf\\anaconda3new\\lib\\site-packages (from jinja2->spacy>=3->booknlp) (2.1.1)\n",
      "Requirement already satisfied: mpmath>=0.19 in c:\\users\\huihf\\anaconda3new\\lib\\site-packages (from sympy->torch>=1.7.1->booknlp) (1.2.1)\n"
     ]
    },
    {
     "name": "stderr",
     "output_type": "stream",
     "text": [
      "WARNING: Ignoring invalid distribution -rotobuf (c:\\users\\huihf\\anaconda3new\\lib\\site-packages)\n",
      "WARNING: Ignoring invalid distribution -rotobuf (c:\\users\\huihf\\anaconda3new\\lib\\site-packages)\n",
      "WARNING: Ignoring invalid distribution -rotobuf (c:\\users\\huihf\\anaconda3new\\lib\\site-packages)\n",
      "WARNING: Ignoring invalid distribution -rotobuf (c:\\users\\huihf\\anaconda3new\\lib\\site-packages)\n",
      "WARNING: Ignoring invalid distribution -rotobuf (c:\\users\\huihf\\anaconda3new\\lib\\site-packages)\n",
      "WARNING: Ignoring invalid distribution -rotobuf (c:\\users\\huihf\\anaconda3new\\lib\\site-packages)\n"
     ]
    }
   ],
   "source": [
    "!pip install booknlp"
   ]
  },
  {
   "cell_type": "code",
   "execution_count": 2,
   "id": "475409d8",
   "metadata": {},
   "outputs": [
    {
     "name": "stdout",
     "output_type": "stream",
     "text": [
      "WARNING:tensorflow:From C:\\Users\\huihf\\anaconda3new\\lib\\site-packages\\keras\\src\\losses.py:2976: The name tf.losses.sparse_softmax_cross_entropy is deprecated. Please use tf.compat.v1.losses.sparse_softmax_cross_entropy instead.\n",
      "\n",
      "using device cpu\n"
     ]
    }
   ],
   "source": [
    "from booknlp.booknlp import BookNLP\n"
   ]
  },
  {
   "cell_type": "code",
   "execution_count": null,
   "id": "b1762436",
   "metadata": {},
   "outputs": [],
   "source": []
  },
  {
   "cell_type": "code",
   "execution_count": null,
   "id": "8f62a720",
   "metadata": {},
   "outputs": [],
   "source": []
  },
  {
   "cell_type": "code",
   "execution_count": null,
   "id": "de5fe861",
   "metadata": {},
   "outputs": [],
   "source": []
  },
  {
   "cell_type": "code",
   "execution_count": null,
   "id": "e6b887d7",
   "metadata": {},
   "outputs": [],
   "source": []
  },
  {
   "cell_type": "code",
   "execution_count": null,
   "id": "5f0e307d",
   "metadata": {},
   "outputs": [],
   "source": []
  },
  {
   "cell_type": "code",
   "execution_count": null,
   "id": "004f2b09",
   "metadata": {},
   "outputs": [],
   "source": []
  },
  {
   "cell_type": "code",
   "execution_count": null,
   "id": "f109d075",
   "metadata": {},
   "outputs": [],
   "source": []
  },
  {
   "cell_type": "code",
   "execution_count": null,
   "id": "9bb49f6c",
   "metadata": {},
   "outputs": [],
   "source": []
  },
  {
   "cell_type": "code",
   "execution_count": null,
   "id": "40a5438c",
   "metadata": {},
   "outputs": [],
   "source": []
  }
 ],
 "metadata": {
  "kernelspec": {
   "display_name": "Python 3 (ipykernel)",
   "language": "python",
   "name": "python3"
  },
  "language_info": {
   "codemirror_mode": {
    "name": "ipython",
    "version": 3
   },
   "file_extension": ".py",
   "mimetype": "text/x-python",
   "name": "python",
   "nbconvert_exporter": "python",
   "pygments_lexer": "ipython3",
   "version": "3.10.9"
  }
 },
 "nbformat": 4,
 "nbformat_minor": 5
}
