{
 "cells": [
  {
   "cell_type": "code",
   "execution_count": null,
   "id": "35882c29",
   "metadata": {},
   "outputs": [
    {
     "name": "stderr",
     "output_type": "stream",
     "text": [
      "[nltk_data] Downloading package punkt to C:\\nltk_data...\n",
      "[nltk_data]   Package punkt is already up-to-date!\n",
      "[nltk_data] Downloading package cmudict to C:\\nltk_data...\n",
      "[nltk_data]   Package cmudict is already up-to-date!\n"
     ]
    }
   ],
   "source": [
    "import os\n",
    "import nltk\n",
    "import matplotlib.pyplot as plt\n",
    "from PyPDF2 import PdfReader\n",
    "from nltk.tokenize import sent_tokenize, word_tokenize\n",
    "from nltk.corpus import cmudict\n",
    "\n",
    "nltk.download('punkt')\n",
    "nltk.download('cmudict')\n",
    "\n",
    "def syllable_count(word):\n",
    "    d = cmudict.dict()\n",
    "    try:\n",
    "        return max([len(list(y for y in x if y[-1].isdigit())) for x in d[word.lower()]])\n",
    "    except KeyError:\n",
    "        # If word is not found in the CMU Pronouncing Dictionary, estimate syllables based on length\n",
    "        return max(1, len(word) / 3)\n",
    "\n",
    "def calculate_flesch_kincaid_grade_level(text):\n",
    "    words = word_tokenize(text)\n",
    "    total_words = len(words)\n",
    "    total_sentences = len(sent_tokenize(text))\n",
    "    total_syllables = sum(syllable_count(word) for word in words)\n",
    "\n",
    "    # Flesch-Kincaid Grade Level formula\n",
    "    grade_level = 0.39 * (total_words / total_sentences) + 11.8 * (total_syllables / total_words) - 15.59\n",
    "\n",
    "    return grade_level\n",
    "\n",
    "def process_pdf_file(file_path):\n",
    "    with open(file_path, 'rb') as file:\n",
    "        pdf_reader = PdfReader(file)\n",
    "        text = ''\n",
    "        for page_num in range(len(pdf_reader.pages)):\n",
    "            text += pdf_reader.pages[page_num].extract_text()\n",
    "        return calculate_flesch_kincaid_grade_level(text)\n",
    "\n",
    "def plot_results(file_names, complexities):\n",
    "    plt.bar(file_names, complexities, color='green')\n",
    "    plt.xlabel('PDF Files')\n",
    "    plt.ylabel('Flesch-Kincaid Grade Level')\n",
    "    plt.title('Sentence Complexity Comparison (Flesch-Kincaid)')\n",
    "    plt.xticks(rotation=45, ha='right')\n",
    "    plt.tight_layout()\n",
    "    plt.show()\n",
    "\n",
    "def main(folder_path):\n",
    "    file_names = []\n",
    "    complexities = []\n",
    "\n",
    "    for filename in os.listdir(folder_path):\n",
    "        if filename.endswith('.pdf'):\n",
    "            file_path = os.path.join(folder_path, filename)\n",
    "            grade_level = process_pdf_file(file_path)\n",
    "\n",
    "            file_names.append(filename)\n",
    "            complexities.append(grade_level)\n",
    "\n",
    "    plot_results(file_names, complexities)\n",
    "\n",
    "if __name__ == \"__main__\":\n",
    "    folder_path = \"./PDF\"\n",
    "    main(folder_path)\n"
   ]
  },
  {
   "cell_type": "code",
   "execution_count": null,
   "id": "e5cf0b32",
   "metadata": {},
   "outputs": [],
   "source": []
  }
 ],
 "metadata": {
  "kernelspec": {
   "display_name": "Python 3 (ipykernel)",
   "language": "python",
   "name": "python3"
  },
  "language_info": {
   "codemirror_mode": {
    "name": "ipython",
    "version": 3
   },
   "file_extension": ".py",
   "mimetype": "text/x-python",
   "name": "python",
   "nbconvert_exporter": "python",
   "pygments_lexer": "ipython3",
   "version": "3.10.9"
  }
 },
 "nbformat": 4,
 "nbformat_minor": 5
}
