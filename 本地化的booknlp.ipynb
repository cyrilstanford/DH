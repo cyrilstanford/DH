{
 "cells": [
  {
   "cell_type": "code",
   "execution_count": 1,
   "id": "a8bff438",
   "metadata": {},
   "outputs": [
    {
     "name": "stdout",
     "output_type": "stream",
     "text": [
      "WARNING:tensorflow:From C:\\Users\\huihf\\anaconda3new\\lib\\site-packages\\keras\\src\\losses.py:2976: The name tf.losses.sparse_softmax_cross_entropy is deprecated. Please use tf.compat.v1.losses.sparse_softmax_cross_entropy instead.\n",
      "\n",
      "using device cpu\n"
     ]
    }
   ],
   "source": [
    "from booknlp.booknlp import BookNLP"
   ]
  },
  {
   "cell_type": "markdown",
   "id": "03d6fa70",
   "metadata": {},
   "source": []
  },
  {
   "cell_type": "code",
   "execution_count": 10,
   "id": "22495fc3",
   "metadata": {},
   "outputs": [
    {
     "name": "stdout",
     "output_type": "stream",
     "text": [
      "{'pipeline': 'entity,quote,supersense,event,coref', 'model': 'custom', 'entity_model_path': 'C:/Users/huihf/hui_models/entities_google_bert_uncased_L-4_H-256_A-4-v1.0.model', 'coref_model_path': 'C:/Users/huihf/hui_models/coref_google_bert_uncased_L-2_H-256_A-4-v1.0.model', 'quote_attribution_model_path': 'C:/Users/huihf/hui_models/speaker_google_bert_uncased_L-8_H-256_A-4-v1.0.1.model'}\n",
      "--- startup: 3.867 seconds ---\n",
      "--- spacy: 0.740 seconds ---\n",
      "--- entities: 8.617 seconds ---\n",
      "--- quotes: 0.009 seconds ---\n",
      "--- attribution: 0.839 seconds ---\n",
      "--- name coref: 0.008 seconds ---\n",
      "--- coref: 11.210 seconds ---\n",
      "--- TOTAL (excl. startup): 21.480 seconds ---, 4490 words\n"
     ]
    }
   ],
   "source": [
    "model_params={\n",
    "    \"pipeline\": \"entity,quote,supersense,event,coref\",\n",
    "    \"model\": \"custom\",\n",
    "    \"entity_model_path\": \"C:/Users/huihf/hui_models/entities_google_bert_uncased_L-4_H-256_A-4-v1.0.model\",\n",
    "    \"coref_model_path\": \"C:/Users/huihf/hui_models/coref_google_bert_uncased_L-2_H-256_A-4-v1.0.model\",\n",
    "    \"quote_attribution_model_path\": \"C:/Users/huihf/hui_models/speaker_google_bert_uncased_L-8_H-256_A-4-v1.0.1.model\"\n",
    "}\n",
    "\n",
    "booknlp = BookNLP(\"en\", model_params)\n",
    "\n",
    "inputFile = \"./test.txt\"\n",
    "outputDir = \"./outtest/\"\n",
    "book_id = \"crusoe\"\n",
    "\n",
    "booknlp.process(inputFile, outputDir, book_id)\n"
   ]
  },
  {
   "cell_type": "code",
   "execution_count": null,
   "id": "86f534d2",
   "metadata": {},
   "outputs": [],
   "source": []
  }
 ],
 "metadata": {
  "kernelspec": {
   "display_name": "Python 3 (ipykernel)",
   "language": "python",
   "name": "python3"
  },
  "language_info": {
   "codemirror_mode": {
    "name": "ipython",
    "version": 3
   },
   "file_extension": ".py",
   "mimetype": "text/x-python",
   "name": "python",
   "nbconvert_exporter": "python",
   "pygments_lexer": "ipython3",
   "version": "3.10.9"
  }
 },
 "nbformat": 4,
 "nbformat_minor": 5
}
