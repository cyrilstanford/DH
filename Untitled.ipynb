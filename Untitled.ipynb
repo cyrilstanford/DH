{
 "cells": [
  {
   "cell_type": "code",
   "execution_count": null,
   "id": "7cb5b313",
   "metadata": {},
   "outputs": [],
   "source": [
    "import os\n",
    "from tqdm import tqdm\n",
    "from booknlp.booknlp import BookNLP\n",
    "\n",
    "model_params = {\n",
    "    \"pipeline\": \"entity,quote,supersense,event,coref\",\n",
    "    \"model\": \"small\"\n",
    "}\n",
    "\n",
    "booknlp = BookNLP(\"en\", model_params)\n",
    "inputDir = \"../corpus/19c\"\n",
    "outputDir = \"./output19/\"\n",
    "\n",
    "# 确保输出文件夹存在\n",
    "os.makedirs(outputDir, exist_ok=True)\n",
    "\n",
    "# 获取输入文件夹下所有 txt 文件列表\n",
    "txt_files = [filename for filename in os.listdir(inputDir) if filename.endswith(\".txt\")]\n",
    "\n",
    "# 获取输出文件夹下已处理过的文件列表\n",
    "processed_files = [filename[:-8] for filename in os.listdir(outputDir) if filename.endswith(\".tokens\")]\n",
    "\n",
    "# 筛选出尚未处理的文件列表\n",
    "unprocessed_files = [filename for filename in txt_files if filename[:-4] not in processed_files]\n",
    "\n",
    "# 使用 tqdm 包装器添加进度条\n",
    "for filename in tqdm(unprocessed_files, desc=\"Processing files\"):\n",
    "    book_id = os.path.splitext(filename)[0]  # 使用文件名作为 book_id\n",
    "    inputFilePath = os.path.join(inputDir, filename)\n",
    "    \n",
    "    # 确认文件是否已经完整处理过\n",
    "    fully_processed = all([os.path.exists(os.path.join(outputDir, book_id + ext)) for ext in [\".book.html\", \".book\", \".entities\", \".quotes\", \".supersense\", \".tokens\"]])\n",
    "    \n",
    "    if not fully_processed:\n",
    "        print(\"Processing file:\", filename)  # 输出提示信息\n",
    "        booknlp.process(inputFilePath, outputDir, book_id)\n",
    "    else:\n",
    "        print(\"File already processed:\", filename)\n"
   ]
  }
 ],
 "metadata": {
  "kernelspec": {
   "display_name": "Python 3 (ipykernel)",
   "language": "python",
   "name": "python3"
  },
  "language_info": {
   "codemirror_mode": {
    "name": "ipython",
    "version": 3
   },
   "file_extension": ".py",
   "mimetype": "text/x-python",
   "name": "python",
   "nbconvert_exporter": "python",
   "pygments_lexer": "ipython3",
   "version": "3.10.9"
  }
 },
 "nbformat": 4,
 "nbformat_minor": 5
}
